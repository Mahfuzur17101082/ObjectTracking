{
 "cells": [
  {
   "cell_type": "code",
   "execution_count": 1,
   "metadata": {},
   "outputs": [],
   "source": [
    "import cv2\n",
    "import numpy as np\n",
    "\n",
    "\n",
    "cap=cv2.VideoCapture('Video/chaplin.mp4')\n",
    "\n",
    "\n",
    "ret, first_frame=cap.read()\n",
    "\n",
    "\n",
    "prev_gray=cv2.cvtColor(first_frame, cv2.COLOR_BGR2GRAY)\n",
    "\n",
    "\n",
    "mask= np.zeros_like(first_frame)\n",
    "\n",
    "\n",
    "mask[..., 1]=255\n",
    "\n",
    "\n",
    "while(cap.isOpened()):\n",
    "\n",
    "\n",
    "    ret, frame=cap.read()\n",
    "\n",
    "    cv2.imshow('input', frame)\n",
    "    \n",
    "   \n",
    "    gray=cv2.cvtColor(frame, cv2.COLOR_BGR2GRAY)\n",
    "    \n",
    "\n",
    "    flow=cv2.calcOpticalFlowFarneback(prev_gray, gray, None, 0.5, 3, 15, 3, 5, 1.2, 0)\n",
    "    \n",
    "\n",
    "    magn, angle = cv2.cartToPolar(flow[..., 0], flow[...,1])\n",
    "    \n",
    "\n",
    "    mask[...,2]=angle*180/np.pi/2\n",
    "        \n",
    "\n",
    "    mask[...,2]=cv2.normalize(magn, None, 0, 255, cv2.NORM_MINMAX)\n",
    "\n",
    "\n",
    "    rgb=cv2.cvtColor(mask, cv2.COLOR_HSV2RGB)\n",
    "                     \n",
    "\n",
    "    cv2.imshow(\"Dense Optical Flow\", rgb)\n",
    "    \n",
    "\n",
    "    prev_gray=gray\n",
    "    \n",
    "\n",
    "    if cv2.waitKey(30) & 0xFF == ord('q'):\n",
    "        break\n",
    "    \n",
    "\n",
    "cap.release()\n",
    "cv2.destroyAllWindows()"
   ]
  },
  {
   "cell_type": "code",
   "execution_count": null,
   "metadata": {},
   "outputs": [],
   "source": []
  }
 ],
 "metadata": {
  "kernelspec": {
   "display_name": "Python 3",
   "language": "python",
   "name": "python3"
  },
  "language_info": {
   "codemirror_mode": {
    "name": "ipython",
    "version": 3
   },
   "file_extension": ".py",
   "mimetype": "text/x-python",
   "name": "python",
   "nbconvert_exporter": "python",
   "pygments_lexer": "ipython3",
   "version": "3.7.4"
  }
 },
 "nbformat": 4,
 "nbformat_minor": 2
}
